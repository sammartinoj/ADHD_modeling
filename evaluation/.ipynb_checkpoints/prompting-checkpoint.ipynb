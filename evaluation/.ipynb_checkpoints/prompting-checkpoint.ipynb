{
 "cells": [
  {
   "cell_type": "code",
   "execution_count": 38,
   "id": "21e487d7-a5d3-4402-8eba-0f2cf27478b1",
   "metadata": {},
   "outputs": [
    {
     "data": {
      "text/plain": [
       "GPT2LMHeadModel(\n",
       "  (transformer): GPT2Model(\n",
       "    (wte): Embedding(8000, 128)\n",
       "    (wpe): Embedding(1024, 128)\n",
       "    (drop): Dropout(p=0.1, inplace=False)\n",
       "    (h): ModuleList(\n",
       "      (0): GPT2Block(\n",
       "        (ln_1): LayerNorm((128,), eps=1e-05, elementwise_affine=True)\n",
       "        (attn): GPT2Attention(\n",
       "          (c_attn): Conv1D()\n",
       "          (c_proj): Conv1D()\n",
       "          (attn_dropout): Dropout(p=0.1, inplace=False)\n",
       "          (resid_dropout): Dropout(p=0.1, inplace=False)\n",
       "        )\n",
       "        (ln_2): LayerNorm((128,), eps=1e-05, elementwise_affine=True)\n",
       "        (mlp): GPT2MLP(\n",
       "          (c_fc): Conv1D()\n",
       "          (c_proj): Conv1D()\n",
       "          (act): NewGELUActivation()\n",
       "          (dropout): Dropout(p=0.1, inplace=False)\n",
       "        )\n",
       "      )\n",
       "      (1): GPT2Block(\n",
       "        (ln_1): LayerNorm((128,), eps=1e-05, elementwise_affine=True)\n",
       "        (attn): GPT2Attention(\n",
       "          (c_attn): Conv1D()\n",
       "          (c_proj): Conv1D()\n",
       "          (attn_dropout): Dropout(p=0.1, inplace=False)\n",
       "          (resid_dropout): Dropout(p=0.1, inplace=False)\n",
       "        )\n",
       "        (ln_2): LayerNorm((128,), eps=1e-05, elementwise_affine=True)\n",
       "        (mlp): GPT2MLP(\n",
       "          (c_fc): Conv1D()\n",
       "          (c_proj): Conv1D()\n",
       "          (act): NewGELUActivation()\n",
       "          (dropout): Dropout(p=0.1, inplace=False)\n",
       "        )\n",
       "      )\n",
       "    )\n",
       "    (ln_f): LayerNorm((128,), eps=1e-05, elementwise_affine=True)\n",
       "  )\n",
       "  (lm_head): Linear(in_features=128, out_features=8000, bias=False)\n",
       ")"
      ]
     },
     "execution_count": 38,
     "metadata": {},
     "output_type": "execute_result"
    }
   ],
   "source": [
    "from transformers import GPT2LMHeadModel, PreTrainedTokenizerFast\n",
    "import torch\n",
    "\n",
    "# Load your fine-tuned model\n",
    "model_path = \"gpt-wee-model-few\"\n",
    "tokenizer_path = \"gpt-wee-tokenizer-few-interruptions\"\n",
    "model = GPT2LMHeadModel.from_pretrained(model_path)\n",
    "tokenizer = PreTrainedTokenizerFast.from_pretrained(tokenizer_path)\n",
    "\n",
    "model.eval()\n",
    "\n",
    "# Move model to GPU if available\n",
    "device = torch.device(\"cuda\" if torch.cuda.is_available() else \"cpu\")\n",
    "model.to(device)"
   ]
  },
  {
   "cell_type": "code",
   "execution_count": 26,
   "id": "8317025f-59ee-4d0b-908c-15e585c44790",
   "metadata": {},
   "outputs": [
    {
     "name": "stdout",
     "output_type": "stream",
     "text": [
      "\n",
      "=== CHILD_SPEECH PROMPTS ===\n",
      "Response: i want to eat the door. he was to find the school. she's to do the best in the day and he is on. the age\n",
      "Response: i like it was to me and i said it was in the age of the world was a member of his heart in the american politician. he was\n",
      "Response: you were in the day, and they're out of. he had to be down. in the one of the side of the united states of the\n",
      "Response: bunny gone in the night. he was in the club. he was an a member of the first and had a member of the age of\n",
      "Response: where my book? is a commune. he is in the region and the department in the university. he has got that is the age, and the\n",
      "Response: i want cookie in your own and up..'s, and he's been in. that's a lot of the one of the age\n",
      "Response: mommy go... '' said she was all the old. '' said she's to do not, and he went up to the last,\n",
      "Response: no like broccoli?.? '' said the old man. “i told you're not., so, and i don't know\n",
      "Response: i like the way. i got her and, and on.  i've got him up to me on. you've got it's been so\n",
      "Response: who's that. the end of the people were back, and. in the people are a little and, and, and, and that's a\n",
      "Response: it's a bit of it's out of. in the ending, and was a large. she was the first. in the first time.\n",
      "Response: piggy goe was in the city. the age of the city of the 2010 \"a, (born 192), \"in was an\n",
      "Response: brother said that is, and, but it is so that. it is a \"i. the \"it was of the age of \"s of\n",
      "Response: kitty said it is, and of the first is a small. he said, and, but he was a single \"it to be.\n",
      "Response: doggy and in the time, that was a new family to his own house. he had a friend of the team. in the world was very\n",
      "Response: i like to play with the side of the time, and i've been down and to you're very so i will.  they don't know\n",
      "Response: dinosaurs are in the school of the county in, and and the age of the kingdom, of the age of, was a member of the\n"
     ]
    }
   ],
   "source": [
    "prompts = {\n",
    "    \"child_speech\": [\n",
    "        \"i want to eat\",\n",
    "        \"i like\",\n",
    "        \"you were\",\n",
    "        \"bunny gone\",\n",
    "        \"where my book\",\n",
    "        \"i want cookie\",\n",
    "        \"mommy go\",\n",
    "        \"no like broccoli\",\n",
    "        \"i like the\",\n",
    "        \"who's that\",\n",
    "        \"it's a\",\n",
    "        \"piggy go\",\n",
    "        \"brother said\",\n",
    "        \"kitty said\",\n",
    "        \"doggy and\",\n",
    "        \"i like to play with\",\n",
    "        \"dinosaurs are\"\n",
    "        ]\n",
    "}\n",
    "\n",
    "def generate_child_response(prompt, max_length=30):\n",
    "    inputs = tokenizer(prompt, return_tensors=\"pt\").to(device)\n",
    "    with torch.no_grad():\n",
    "        outputs = model.generate(\n",
    "            **inputs,\n",
    "            max_length=max_length,\n",
    "            do_sample=True,\n",
    "            temperature=0.7,\n",
    "            top_p=0.9, # 0.9\n",
    "            top_k=50, # 50\n",
    "            pad_token_id=model.config.eos_token_id\n",
    "        )\n",
    "    return tokenizer.decode(outputs[0], skip_special_tokens=True)\n",
    "\n",
    "# Uncomment Depending on what model is in use\n",
    "# output_list_base = []\n",
    "# output_list_freq = []\n",
    "output_list_less = []\n",
    "\n",
    "for difficulty, examples in prompts.items():\n",
    "    print(f\"\\n=== {difficulty.upper()} PROMPTS ===\")\n",
    "    for prompt in examples:\n",
    "        # print(f\"\\nPrompt: {prompt}\")\n",
    "        output = generate_child_response(prompt)\n",
    "        print(f\"Response: {output}\")\n",
    "        # output_list_base.append(output)\n",
    "        # output_list_freq.append(output)\n",
    "        output_list_less.append(output)\n"
   ]
  },
  {
   "cell_type": "raw",
   "id": "d0f45458-3ff1-418a-ad2f-c2de651f756c",
   "metadata": {},
   "source": [
    "!pip install sentence-transformers scikit-learn python-Levenshtein\n",
    "!pip install \"spacy<3.3.0\""
   ]
  },
  {
   "cell_type": "code",
   "execution_count": 44,
   "id": "61337161-e349-43ae-a434-ab236f5ee593",
   "metadata": {},
   "outputs": [],
   "source": [
    "from sentence_transformers import SentenceTransformer\n",
    "from sklearn.metrics.pairwise import cosine_similarity\n",
    "import spacy\n",
    "import Levenshtein\n",
    "from collections import Counter\n",
    "\n",
    "model = SentenceTransformer('all-MiniLM-L6-v2')\n",
    "\n",
    "# Cosine Similarity (Sentence Embeddings)\n",
    "def cosine_sim(s1, s2):\n",
    "    emb1 = model.encode([s1])\n",
    "    emb2 = model.encode([s2])\n",
    "    return cosine_similarity(emb1, emb2)[0][0]\n",
    "\n",
    "\n",
    "# Levenshtein Ratio (Edit Distance)\n",
    "def levenshtein_sim(s1, s2):\n",
    "    return Levenshtein.ratio(s1, s2)\n",
    "\n",
    "cosine_values_freq_comp= []\n",
    "levenshtein_values_freq_comp = []\n",
    "\n",
    "for i in range(len(output_list_base)):\n",
    "    s1 = output_list_freq[i]\n",
    "    s2 = output_list_less[i]\n",
    "    cosine_values_freq_comp.append(cosine_sim(s1, s2))\n",
    "    levenshtein_values_freq_comp.append(levenshtein_sim(s1, s2))\n"
   ]
  },
  {
   "cell_type": "code",
   "execution_count": 39,
   "id": "25421ef3-77d2-4b29-8094-8c6fe0f9618a",
   "metadata": {},
   "outputs": [],
   "source": [
    "avg_cos_base_less = sum(cosine_values_base_less)/len(cosine_values_base_less)\n",
    "avg_leven_base_less = sum(levenshtein_values_base_less)/len(levenshtein_values_base_less)\n",
    "avg_cos_base_freq = sum(cosine_values_base_freq)/len(cosine_values_base_freq)\n",
    "avg_leven_base_freq = sum(levenshtein_values_base_freq)/len(levenshtein_values_base_freq)"
   ]
  },
  {
   "cell_type": "code",
   "execution_count": 60,
   "id": "7f385e4c-d5a7-416b-970d-35b08c3f5fee",
   "metadata": {},
   "outputs": [
    {
     "data": {
      "image/png": "[encoded data removed]",
      "text/plain": [
       "<Figure size 640x480 with 1 Axes>"
      ]
     },
     "metadata": {},
     "output_type": "display_data"
    }
   ],
   "source": [
    "import matplotlib.pyplot as plt\n",
    "import numpy as np\n",
    "\n",
    "group_labels = ['Less Frequent', 'Frequent']\n",
    "values_group1 = [avg_cos_base_less, avg_leven_base_less]\n",
    "values_group2 = [avg_cos_base_freq, avg_leven_base_freq]\n",
    "\n",
    "x = np.arange(len(group_labels))\n",
    "width = 0.35\n",
    "\n",
    "fig, ax = plt.subplots()\n",
    "bars1 = ax.bar(x - width/2, values_group1, width, color = 'green',  label='Cosine')\n",
    "bars2 = ax.bar(x + width/2, values_group2, width,  color = 'tab:blue', label='Levenshtein')\n",
    "\n",
    "ax.set_title('Average Similarity Scores')\n",
    "ax.set_xticks(x)\n",
    "ax.set_xticklabels(group_labels)\n",
    "ax.legend()\n",
    "\n",
    "plt.show()"
   ]
  }
 ],
 "metadata": {
  "kernelspec": {
   "display_name": "Python 3 (ipykernel)",
   "language": "python",
   "name": "python3"
  },
  "language_info": {
   "codemirror_mode": {
    "name": "ipython",
    "version": 3
   },
   "file_extension": ".py",
   "mimetype": "text/x-python",
   "name": "python",
   "nbconvert_exporter": "python",
   "pygments_lexer": "ipython3",
   "version": "3.7.15"
  }
 },
 "nbformat": 4,
 "nbformat_minor": 5
}
